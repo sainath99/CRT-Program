{
  "nbformat": 4,
  "nbformat_minor": 0,
  "metadata": {
    "colab": {
      "name": "04-12-19.ipynb",
      "provenance": [],
      "include_colab_link": true
    },
    "kernelspec": {
      "name": "python3",
      "display_name": "Python 3"
    }
  },
  "cells": [
    {
      "cell_type": "markdown",
      "metadata": {
        "id": "view-in-github",
        "colab_type": "text"
      },
      "source": [
        "<a href=\"https://colab.research.google.com/github/sainath99/CRT-Program/blob/master/04_12_19.ipynb\" target=\"_parent\"><img src=\"https://colab.research.google.com/assets/colab-badge.svg\" alt=\"Open In Colab\"/></a>"
      ]
    },
    {
      "cell_type": "code",
      "metadata": {
        "id": "UJIbUfVNJHw6",
        "colab_type": "code",
        "colab": {}
      },
      "source": [
        ""
      ],
      "execution_count": 0,
      "outputs": []
    },
    {
      "cell_type": "markdown",
      "metadata": {
        "id": "dIo7rtX0JKvp",
        "colab_type": "text"
      },
      "source": [
        ""
      ]
    },
    {
      "cell_type": "code",
      "metadata": {
        "id": "KcR3wpsfJL14",
        "colab_type": "code",
        "colab": {
          "base_uri": "https://localhost:8080/",
          "height": 51
        },
        "outputId": "0f7afdad-3a39-4479-9930-664d5dc8f6ef"
      },
      "source": [
        "# Read the number as input\n",
        "# Print the output as digits of the number\n",
        "# test cases\n",
        "# 145  -- 5 4 1\n",
        "# 123  -- 3 2 1\n",
        " \n",
        "n= int(input('enter the number'))\n",
        "while n!=0:\n",
        "      r=n%10\n",
        "      print(r,end=' ')\n",
        "      n=n//10\n",
        "     "
      ],
      "execution_count": 4,
      "outputs": [
        {
          "output_type": "stream",
          "text": [
            "enter the number541\n",
            "1 4 5 "
          ],
          "name": "stdout"
        }
      ]
    },
    {
      "cell_type": "code",
      "metadata": {
        "id": "uMIR9wXFLZDR",
        "colab_type": "code",
        "colab": {}
      },
      "source": [
        ""
      ],
      "execution_count": 0,
      "outputs": []
    },
    {
      "cell_type": "markdown",
      "metadata": {
        "id": "AhRFiaOXL6w0",
        "colab_type": "text"
      },
      "source": [
        "### Functions in programming\n",
        "- Program will be divides into sub parts\n",
        "- it makes the re-use if the code\n",
        "- function makes the programming more easier \n",
        "- def is keyword which is used to define the function \n",
        "- function name follows the camel case always \n",
        "  - func()ispalindrome check()\n",
        "- define of the function can be anything for the given requirment \n",
        "- def function \n"
      ]
    },
    {
      "cell_type": "code",
      "metadata": {
        "id": "ADc-XQNZNTEA",
        "colab_type": "code",
        "colab": {
          "base_uri": "https://localhost:8080/",
          "height": 51
        },
        "outputId": "25619b8c-7778-4c9d-a034-ccc62ac0cc2e"
      },
      "source": [
        "#Read the input as a number \n",
        "#Print the output as large digits of the given number \n",
        "#58952  -- 9\n",
        "#751124 -- 7\n",
        " \n",
        "def largeDigit(n):\n",
        "   large =0\n",
        "   while n!=0:\n",
        "       r=n%10\n",
        "       if  large < r: \n",
        "         large=r\n",
        "       n=n//10\n",
        "   return largedigit\n",
        "n= int(input('enter the number '))\n",
        "largeDigit(n)\n"
      ],
      "execution_count": 16,
      "outputs": [
        {
          "output_type": "stream",
          "text": [
            "enter the number 12349\n"
          ],
          "name": "stdout"
        },
        {
          "output_type": "execute_result",
          "data": {
            "text/plain": [
              "<function __main__.largedigit>"
            ]
          },
          "metadata": {
            "tags": []
          },
          "execution_count": 16
        }
      ]
    },
    {
      "cell_type": "code",
      "metadata": {
        "id": "pM60kvFVNQFZ",
        "colab_type": "code",
        "colab": {
          "base_uri": "https://localhost:8080/",
          "height": 51
        },
        "outputId": "70ed872e-d76d-4f86-cd43-2d2be17e813d"
      },
      "source": [
        "# Read the input as a number\n",
        "# sum of the digits of the given number\n",
        "# 145 -- 10\n",
        "\n",
        "def sumOfDigits(n):\n",
        "    s=0\n",
        "    while n !=0:\n",
        "       r=n%10\n",
        "       s=s+r\n",
        "       n=n//10\n",
        "    return s\n",
        "n= int(input(''))\n",
        "sumOfDigits(n)\n"
      ],
      "execution_count": 18,
      "outputs": [
        {
          "output_type": "stream",
          "text": [
            "121\n"
          ],
          "name": "stdout"
        },
        {
          "output_type": "execute_result",
          "data": {
            "text/plain": [
              "4"
            ]
          },
          "metadata": {
            "tags": []
          },
          "execution_count": 18
        }
      ]
    },
    {
      "cell_type": "code",
      "metadata": {
        "id": "rG2lZB8KIVCt",
        "colab_type": "code",
        "colab": {
          "base_uri": "https://localhost:8080/",
          "height": 51
        },
        "outputId": "c849bf0c-7e78-4bf8-c1ce-1b55230aafe9"
      },
      "source": [
        "# Read the input as a number \n",
        "# Print the output as  palindrome or not\n",
        "# a number reversed itself is same as original number is called palindrome\n",
        "# 121  -- plaindrome\n",
        "# 145  -- not\n",
        "def isPalindrome(n):\n",
        "   s=0\n",
        "   buffer=n\n",
        "   while n!=0:\n",
        "      r=n%10\n",
        "      s=s*10+r\n",
        "      n=n//10\n",
        "   if s== buffer :  \n",
        "      return \"palindrome\"\n",
        "   else :\n",
        "     return \"not palindrome\"\n",
        "   return\n",
        "n=int(input(''))\n",
        "isPalindrome(n)"
      ],
      "execution_count": 19,
      "outputs": [
        {
          "output_type": "stream",
          "text": [
            "121\n"
          ],
          "name": "stdout"
        },
        {
          "output_type": "execute_result",
          "data": {
            "text/plain": [
              "'palindrome'"
            ]
          },
          "metadata": {
            "tags": []
          },
          "execution_count": 19
        }
      ]
    },
    {
      "cell_type": "code",
      "metadata": {
        "id": "2c-BC5WRLZOx",
        "colab_type": "code",
        "colab": {
          "base_uri": "https://localhost:8080/",
          "height": 51
        },
        "outputId": "c61fbe5a-789c-4e12-d23b-700a5bb634fc"
      },
      "source": [
        "# Read the num as a input\n",
        "# print the large digit from the last three position of the number\n",
        "# Test Cases :\n",
        "# 59852 -- 8\n",
        "# 175175 -- 7\n",
        "def printLargeDigit(n):\n",
        "   i = 0\n",
        "   large=0\n",
        "   while i!=3:\n",
        "     r=n%10\n",
        "     if large <r:\n",
        "        large = r\n",
        "     n= n//10\n",
        "     i= i+1\n",
        "   return large\n",
        "n= int(input(''))\n",
        "printLargeDigit(n)  \n"
      ],
      "execution_count": 26,
      "outputs": [
        {
          "output_type": "stream",
          "text": [
            "1251563789\n"
          ],
          "name": "stdout"
        },
        {
          "output_type": "execute_result",
          "data": {
            "text/plain": [
              "9"
            ]
          },
          "metadata": {
            "tags": []
          },
          "execution_count": 26
        }
      ]
    },
    {
      "cell_type": "code",
      "metadata": {
        "id": "w6UuE5pHQjhg",
        "colab_type": "code",
        "colab": {}
      },
      "source": [
        ""
      ],
      "execution_count": 0,
      "outputs": []
    },
    {
      "cell_type": "markdown",
      "metadata": {
        "id": "Ljee9v6IQnhD",
        "colab_type": "text"
      },
      "source": [
        "##Data structures of python programming\n",
        "- list\n",
        "- tuples\n",
        "- Dictonaries \n"
      ]
    },
    {
      "cell_type": "code",
      "metadata": {
        "id": "jU8waR8bQ9zE",
        "colab_type": "code",
        "colab": {
          "base_uri": "https://localhost:8080/",
          "height": 34
        },
        "outputId": "e2f35d06-ccc4-4537-acb0-6c5d12ef4929"
      },
      "source": [
        "li=[1,2,3,4,5]\n",
        "print(li)"
      ],
      "execution_count": 28,
      "outputs": [
        {
          "output_type": "stream",
          "text": [
            "[1, 2, 3, 4, 5]\n"
          ],
          "name": "stdout"
        }
      ]
    },
    {
      "cell_type": "markdown",
      "metadata": {
        "id": "35XI83MUJJ6T",
        "colab_type": "text"
      },
      "source": [
        ""
      ]
    },
    {
      "cell_type": "code",
      "metadata": {
        "id": "q00IcEjHDbxb",
        "colab_type": "code",
        "colab": {
          "base_uri": "https://localhost:8080/",
          "height": 34
        },
        "outputId": "70b93047-e4c1-482b-ed45-ff5f2970df99"
      },
      "source": [
        "for i in  range (1,12):\n",
        "   print(i,end=' ')"
      ],
      "execution_count": 31,
      "outputs": [
        {
          "output_type": "stream",
          "text": [
            "1 2 3 4 5 6 7 8 9 10 11 "
          ],
          "name": "stdout"
        }
      ]
    },
    {
      "cell_type": "code",
      "metadata": {
        "id": "O5XtoPuiDlsk",
        "colab_type": "code",
        "colab": {
          "base_uri": "https://localhost:8080/",
          "height": 34
        },
        "outputId": "a32a4940-628e-40f3-98ff-94819162251c"
      },
      "source": [
        "for i in  range (0,25,2):\n",
        "   print (i,end=' ')"
      ],
      "execution_count": 32,
      "outputs": [
        {
          "output_type": "stream",
          "text": [
            "0 2 4 6 8 10 12 14 16 18 20 22 24 "
          ],
          "name": "stdout"
        }
      ]
    },
    {
      "cell_type": "code",
      "metadata": {
        "id": "HdpcLFzbEI3T",
        "colab_type": "code",
        "colab": {}
      },
      "source": [
        ""
      ],
      "execution_count": 0,
      "outputs": []
    }
  ]
}