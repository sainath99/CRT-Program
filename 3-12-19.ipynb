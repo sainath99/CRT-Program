{
 "cells": [
  {
   "cell_type": "markdown",
   "metadata": {},
   "source": [
    "# introduction to python \n",
    "            "
   ]
  },
  {
   "cell_type": "code",
   "execution_count": 1,
   "metadata": {},
   "outputs": [
    {
     "name": "stdout",
     "output_type": "stream",
     "text": [
      "welcome to python \n"
     ]
    }
   ],
   "source": [
    "print(\"welcome to python \")\n"
   ]
  },
  {
   "cell_type": "code",
   "execution_count": 4,
   "metadata": {},
   "outputs": [
    {
     "name": "stdout",
     "output_type": "stream",
     "text": [
      "the value of x 12515123621543205\n"
     ]
    }
   ],
   "source": [
    "x=12515123621543205\n",
    "print(\"the value of x\",x)\n"
   ]
  },
  {
   "cell_type": "code",
   "execution_count": 14,
   "metadata": {},
   "outputs": [
    {
     "name": "stdout",
     "output_type": "stream",
     "text": [
      "9\n",
      "14\n",
      "the sum of a,b,c is 14\n"
     ]
    }
   ],
   "source": [
    "a=3\n",
    "b=6\n",
    "c=5\n",
    "print(a+b)\n",
    "print(a+b+c)\n",
    "print(\"the sum of a,b,c is\",a+b+c)\n",
    "\n"
   ]
  },
  {
   "cell_type": "code",
   "execution_count": 11,
   "metadata": {},
   "outputs": [
    {
     "data": {
      "text/plain": [
       "-1"
      ]
     },
     "execution_count": 11,
     "metadata": {},
     "output_type": "execute_result"
    }
   ],
   "source": [
    "2-3\n"
   ]
  },
  {
   "cell_type": "markdown",
   "metadata": {},
   "source": [
    "# Datatypes of python programming\n",
    "# -class -int float  str\n",
    "# -int \n",
    "# -str \n",
    "# -float"
   ]
  },
  {
   "cell_type": "code",
   "execution_count": 16,
   "metadata": {},
   "outputs": [
    {
     "name": "stdout",
     "output_type": "stream",
     "text": [
      "2123154646\n",
      "<class 'int'>\n"
     ]
    }
   ],
   "source": [
    "# rutime errors\n",
    "x=2123154646\n",
    "print(x)\n",
    "print(type(x))"
   ]
  },
  {
   "cell_type": "code",
   "execution_count": 17,
   "metadata": {},
   "outputs": [
    {
     "name": "stdout",
     "output_type": "stream",
     "text": [
      "welocme to python\n",
      "<class 'str'>\n",
      "application\n",
      "<class 'str'>\n"
     ]
    }
   ],
   "source": [
    "s=\"welocme to python\"\n",
    "s1=\"application\"\n",
    "print(s)\n",
    "print(type(s))\n",
    "print(s1)\n",
    "print(type(s1))"
   ]
  },
  {
   "cell_type": "markdown",
   "metadata": {},
   "source": [
    "### Datatype conversions\n",
    "- int()\n",
    "     - int() converts the input into int class\n",
    "- str()\n",
    "     - str() converts the input into str class\n",
    "- float()     \n",
    "     - float() converts the input into float class"
   ]
  },
  {
   "cell_type": "code",
   "execution_count": 18,
   "metadata": {},
   "outputs": [
    {
     "name": "stdout",
     "output_type": "stream",
     "text": [
      "12.34\n",
      "<class 'float'>\n",
      "12.34\n",
      "<class 'float'>\n"
     ]
    }
   ],
   "source": [
    "f=12.34\n",
    "print(f)\n",
    "print(type(f))\n",
    "x=int(f)\n",
    "print(f)\n",
    "print(type(f))"
   ]
  },
  {
   "cell_type": "code",
   "execution_count": 20,
   "metadata": {},
   "outputs": [
    {
     "name": "stdout",
     "output_type": "stream",
     "text": [
      "25.78 <class 'str'>\n",
      "25.78 <class 'float'>\n",
      "25 <class 'int'>\n"
     ]
    }
   ],
   "source": [
    "x=\"25.78\"\n",
    "print(x,end= ' ')\n",
    "print(type(x))\n",
    "a=float(x)\n",
    "print(a,end = ' ')\n",
    "print(type(a))\n",
    "b=int(a)\n",
    "print(b,end = ' ')\n",
    "print(type(b))\n",
    "      "
   ]
  },
  {
   "cell_type": "code",
   "execution_count": null,
   "metadata": {},
   "outputs": [],
   "source": []
  },
  {
   "cell_type": "markdown",
   "metadata": {},
   "source": [
    "### Input Methods of python\n",
    "- input() reads the input term of string type\n",
    "- you the conversion methods of converts into the respective type\n",
    "    - like int() float () and str()"
   ]
  },
  {
   "cell_type": "code",
   "execution_count": 21,
   "metadata": {},
   "outputs": [
    {
     "name": "stdout",
     "output_type": "stream",
     "text": [
      "enter Your namesainath\n",
      "sainath <class 'str'>\n"
     ]
    }
   ],
   "source": [
    "s= input('enter Your name')\n",
    "print(s,end=' ')\n",
    "print(type(s))\n"
   ]
  },
  {
   "cell_type": "code",
   "execution_count": 22,
   "metadata": {},
   "outputs": [
    {
     "name": "stdout",
     "output_type": "stream",
     "text": [
      " 10\n",
      "10 <class 'int'>\n"
     ]
    }
   ],
   "source": [
    "a=int(input(' '))\n",
    "print(a,end =' ')\n",
    "print(type(a))\n"
   ]
  },
  {
   "cell_type": "code",
   "execution_count": 23,
   "metadata": {},
   "outputs": [
    {
     "name": "stdout",
     "output_type": "stream",
     "text": [
      " 10\n",
      "10.0\n",
      "<class 'float'>\n"
     ]
    }
   ],
   "source": [
    "b=float(input(' '))\n",
    "print(b)\n",
    "print(type(b))"
   ]
  },
  {
   "cell_type": "markdown",
   "metadata": {},
   "source": [
    "### control flow statements\n",
    "- Condition statements\n",
    "  - if else\n",
    "- looping statements \n",
    "  - while\n",
    "  - for"
   ]
  },
  {
   "cell_type": "code",
   "execution_count": 24,
   "metadata": {},
   "outputs": [],
   "source": [
    "#if Boolean_condition :\n",
    "# statements\n",
    "#else:\n",
    "#   statements"
   ]
  },
  {
   "cell_type": "code",
   "execution_count": 32,
   "metadata": {},
   "outputs": [
    {
     "name": "stdout",
     "output_type": "stream",
     "text": [
      "5\n",
      "odd num\n"
     ]
    }
   ],
   "source": [
    " # read the number as input\n",
    " # give the output as odd or even \n",
    "a= int(input(''))  \n",
    "if (a%2 ==0) :\n",
    "    print('even num')\n",
    "else:  \n",
    "    print('odd num')"
   ]
  },
  {
   "cell_type": "code",
   "execution_count": 36,
   "metadata": {},
   "outputs": [
    {
     "name": "stdout",
     "output_type": "stream",
     "text": [
      "18\n",
      "eligible\n"
     ]
    }
   ],
   "source": [
    "# Read the age of person as input\n",
    "# print the output as whether he is eligiblefor voting or not\n",
    "# eligible range -18 - 85\n",
    "b= int(input(''))\n",
    "if (18<=b<=85):\n",
    "    print ('eligible')\n",
    "else :\n",
    "    print('not eligible')\n",
    "    "
   ]
  },
  {
   "cell_type": "code",
   "execution_count": 37,
   "metadata": {},
   "outputs": [
    {
     "name": "stdout",
     "output_type": "stream",
     "text": [
      "0.5\n",
      "0\n",
      "3\n",
      "18\n",
      "729\n"
     ]
    }
   ],
   "source": [
    "a= 3\n",
    "b =6\n",
    "print(a/b) # division but the outpuut in decimal form\n",
    "print(a//b) # division but the output is only decimal\n",
    "print(a%b)# modulo division output remainder\n",
    "print(a*b) # multiplication\n",
    "print(a**b) # power\n"
   ]
  },
  {
   "cell_type": "code",
   "execution_count": 45,
   "metadata": {},
   "outputs": [
    {
     "name": "stdout",
     "output_type": "stream",
     "text": [
      "enter the first num5\n",
      "enter the second num6\n",
      "d is greater then square of first num is 25\n"
     ]
    }
   ],
   "source": [
    "# read the input as two num\n",
    "# if the first num is greater then second  num is square\n",
    "#   or vice versa\n",
    "\n",
    "c= int(input('enter the first num'))\n",
    "d= int(input('enter the second num'))\n",
    "if c>d:\n",
    "    print('c is greater then square of second num is',d*d)\n",
    "else:    \n",
    "    print('d is greater then square of first num is',c*c)"
   ]
  },
  {
   "cell_type": "code",
   "execution_count": 50,
   "metadata": {},
   "outputs": [
    {
     "name": "stdout",
     "output_type": "stream",
     "text": [
      "enter the value0\n",
      "zero\n"
     ]
    }
   ],
   "source": [
    "# read the num as input\n",
    "# give the output as negative,positive or zero\n",
    "\n",
    "a=int(input('enter the value'))\n",
    "if a>0:\n",
    "    print('positive')\n",
    "elif a<0:\n",
    "    print('negative')\n",
    "elif a==0:\n",
    "    print('zero')"
   ]
  },
  {
   "cell_type": "code",
   "execution_count": 56,
   "metadata": {},
   "outputs": [
    {
     "name": "stdout",
     "output_type": "stream",
     "text": [
      "1 2 3 4 5 6 7 8 9 10 "
     ]
    }
   ],
   "source": [
    "# ++ and --symbols will not work in python programming\n",
    "# while boolean_condition:\n",
    "#     statements\n",
    "\n",
    "# print the numbers from 1 to 10\n",
    "a=1\n",
    "while a<=10:\n",
    "    print(a,end=' ')\n",
    "    a = a+1 # or a+=1"
   ]
  },
  {
   "cell_type": "code",
   "execution_count": 62,
   "metadata": {},
   "outputs": [
    {
     "name": "stdout",
     "output_type": "stream",
     "text": [
      " natural num5\n",
      "5 10 15 "
     ]
    }
   ],
   "source": [
    "# read the N as input\n",
    "# print the sum of N natural numbers\n",
    "#5 -- 15(1+2+3+4+5)\n",
    "\n",
    "N=int(input(' natural num'))\n",
    "start = 1\n",
    "sum =0\n",
    "while start<=n:\n",
    "     sum +=start\n",
    "     start += 1    \n",
    "print(sum)    \n"
   ]
  },
  {
   "cell_type": "code",
   "execution_count": 81,
   "metadata": {},
   "outputs": [
    {
     "name": "stdout",
     "output_type": "stream",
     "text": [
      "10\n",
      "2 4 6 8 10 "
     ]
    }
   ],
   "source": [
    "#Read the input as N\n",
    "#print the only even num between 1 to N\n",
    "#10 -- 2 4 6 8 10\n",
    " \n",
    "N= int(input(''))\n",
    "a=1\n",
    "while a<=N:\n",
    "    if a%2== 0:\n",
    "        print(a,end = ' ')\n",
    "    a+=1"
   ]
  },
  {
   "cell_type": "code",
   "execution_count": 89,
   "metadata": {},
   "outputs": [
    {
     "name": "stdout",
     "output_type": "stream",
     "text": [
      "enter the value6\n",
      "1 2 3 6 "
     ]
    }
   ],
   "source": [
    "# read the input as N\n",
    "# print the facotrs / divisors of the number N\n",
    "#6 - 1 2 3 6\n",
    "#12 - 1 2 3 4 6 8 12\n",
    "#24 - 1 2 3 4 6 8 12 24\n",
    " \n",
    "N=int(input('enter the value'))\n",
    "a=1\n",
    "while a<=N:\n",
    "    if N%a==0:\n",
    "        print(a,end=' ')\n",
    "    a+=1    "
   ]
  },
  {
   "cell_type": "code",
   "execution_count": null,
   "metadata": {},
   "outputs": [],
   "source": []
  },
  {
   "cell_type": "code",
   "execution_count": null,
   "metadata": {},
   "outputs": [],
   "source": []
  }
 ],
 "metadata": {
  "kernelspec": {
   "display_name": "Python 3",
   "language": "python",
   "name": "python3"
  },
  "language_info": {
   "codemirror_mode": {
    "name": "ipython",
    "version": 3
   },
   "file_extension": ".py",
   "mimetype": "text/x-python",
   "name": "python",
   "nbconvert_exporter": "python",
   "pygments_lexer": "ipython3",
   "version": "3.7.3"
  }
 },
 "nbformat": 4,
 "nbformat_minor": 2
}
