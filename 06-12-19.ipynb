{
 "cells": [
  {
   "cell_type": "code",
   "execution_count": 1,
   "metadata": {},
   "outputs": [],
   "source": [
    "# Read two numbers as input and print the output as \n",
    "#square of less number\n"
   ]
  },
  {
   "cell_type": "code",
   "execution_count": null,
   "metadata": {},
   "outputs": [],
   "source": []
  },
  {
   "cell_type": "code",
   "execution_count": 2,
   "metadata": {},
   "outputs": [
    {
     "ename": "SyntaxError",
     "evalue": "invalid syntax (<ipython-input-2-420f67ecca33>, line 2)",
     "output_type": "error",
     "traceback": [
      "\u001b[1;36m  File \u001b[1;32m\"<ipython-input-2-420f67ecca33>\"\u001b[1;36m, line \u001b[1;32m2\u001b[0m\n\u001b[1;33m    int main()\u001b[0m\n\u001b[1;37m           ^\u001b[0m\n\u001b[1;31mSyntaxError\u001b[0m\u001b[1;31m:\u001b[0m invalid syntax\n"
     ]
    }
   ],
   "source": [
    "#include<stdio.h>\n",
    "int main()\n",
    "{\n",
    "  int x,y;\n",
    "  scanf(\"%d%d\",&x,&y);\n",
    "  if (x>y)\n",
    "  {\n",
    "  \t printf(\"%d\",y*y);\n",
    "  }\n",
    "\telse\n",
    "\t{\n",
    "\t\tprintf(\"%d\",x*x);\n",
    "\t}\n",
    "\treturn 0;\n",
    "} \n"
   ]
  },
  {
   "cell_type": "code",
   "execution_count": 3,
   "metadata": {},
   "outputs": [],
   "source": [
    "#REad the age of the person as input and prit the output as eligilble for voting or not\n",
    "#the age is between 18-85 is eligilble\n"
   ]
  },
  {
   "cell_type": "code",
   "execution_count": null,
   "metadata": {},
   "outputs": [],
   "source": [
    "#include<stdio.h>\n",
    "int main()\n",
    "{\n",
    "\tint x;\n",
    "\tscanf(\"%d\",&x);\n",
    "\tif(18<=x<=85)\n",
    "\t{\n",
    "\t\tprintf(\"eliglible\");\n",
    "\t}\n",
    "\telse\n",
    "\t{\n",
    "\t\tprintf(\"not eliglible\");\n",
    "\t}\n",
    "\treturn 0;\n",
    "}"
   ]
  },
  {
   "cell_type": "code",
   "execution_count": null,
   "metadata": {},
   "outputs": [],
   "source": [
    "# Read rthe character as input and check whether it is upper case,lower case or digit.\n",
    "#test cases\n",
    "  a- Lower case\n",
    "  A- upper case\n",
    "  1 - digit character"
   ]
  },
  {
   "cell_type": "code",
   "execution_count": null,
   "metadata": {},
   "outputs": [],
   "source": [
    "#include<stdio.h>\n",
    "// a-z --90-112\n",
    "// A-Z --65-90\n",
    "//0-9 -- 48-57\n",
    "int main()\n",
    "{\n",
    "\tchar a;\n",
    "\tscanf(\"%c\",&a);\n",
    "\tif (a>=97 && a<=122)\n",
    "\t{\n",
    "\t\tprintf(\"lower case\");\n",
    "\t}\n",
    "\telse if(a>=65 && a<=90)\n",
    "\t{\n",
    "\t\tprintf(\"upper character\");\n",
    "\t}\n",
    "\telse if(a>=48 && a<=57)\n",
    "\t{\n",
    "\t\tprintf(\"digit character\");\n",
    "\t}\n",
    "\treturn 0;\n",
    "}"
   ]
  },
  {
   "cell_type": "code",
   "execution_count": null,
   "metadata": {},
   "outputs": [],
   "source": [
    "#read the input as character  and print the output as whether it is vowel or consonant\n",
    "#"
   ]
  },
  {
   "cell_type": "code",
   "execution_count": null,
   "metadata": {},
   "outputs": [],
   "source": [
    "#include<stdio.h>\n",
    "int main()\n",
    "{\n",
    "\tchar c;\n",
    "\tscanf(\"%c\",&c);\n",
    "\tif (c=='a'||c=='e'||c=='i'||c=='o'||c=='u' )\n",
    "\t{\n",
    "\t\tprintf(\"vowels\");\n",
    "\t}\n",
    "\telse\n",
    "\t{\n",
    "\t\tprintf(\"consonant\");\n",
    "\t}\n",
    "\treturn 0;\n",
    "}"
   ]
  },
  {
   "cell_type": "code",
   "execution_count": null,
   "metadata": {},
   "outputs": [],
   "source": [
    "#read the number as input and check whether it is perfectly divisible by3 and 5 or not\n",
    "# test cases:\n",
    "   15 -- yes\n",
    "    12-- No\n",
    "    "
   ]
  },
  {
   "cell_type": "code",
   "execution_count": null,
   "metadata": {},
   "outputs": [],
   "source": [
    "#include<stdio.h>\n",
    "int main()\n",
    "{\n",
    "\tint x;\n",
    "\tscanf(\"%d\",&x);\n",
    "\tif (x%3 == 0 && x%5 == 0)\n",
    "\t{\n",
    "\t\tprintf(\"yes\");\n",
    "\t}\n",
    "\telse\n",
    "\t{\n",
    "\t\tprintf(\"no\");\n",
    "\t}\n",
    "\treturn 0;\n",
    "}"
   ]
  },
  {
   "cell_type": "code",
   "execution_count": null,
   "metadata": {},
   "outputs": [],
   "source": [
    "# Read the number as input (week number) and print the output as week name\n",
    "#Test cases:\n",
    "    1 -- sunday\n",
    "    3 -- tuesday\n",
    "    7 -- saturday"
   ]
  },
  {
   "cell_type": "code",
   "execution_count": null,
   "metadata": {},
   "outputs": [],
   "source": [
    "#include<stdio.h>\n",
    "int main()\n",
    "{\n",
    "\tint x;\n",
    "\tscanf(\"%d\",&x);\n",
    "\tif (x==1)\n",
    "\t{\n",
    "\t\tprintf(\"sunday\");\n",
    "\t}\n",
    "\telse if(x==2)\n",
    "\t{\n",
    "\t\tprintf(\"monday\");\n",
    "\t}\n",
    "\telse if (x==3)\n",
    "\t{\n",
    "\t\tprintf(\"tuesday\");\n",
    "\t}\n",
    "\telse if (x==4)\n",
    "\t{\n",
    "\t\tprintf(\"wed\");\n",
    "\t}\n",
    "\telse if(x==5)\n",
    "\t{\n",
    "\t\tprintf(\"thu\");\n",
    "\t}\n",
    "\telse if(x==6)\n",
    "\t\t{\n",
    "\t\t\tprintf(\"fri\");\t\n",
    "\t\t}\n",
    "\t\telse if(x==7)\n",
    "\t\t{\n",
    "\t\t\tprintf(\"sat\");\n",
    "\t\t}\n",
    "\treturn 0;\n",
    "}"
   ]
  },
  {
   "cell_type": "code",
   "execution_count": null,
   "metadata": {},
   "outputs": [],
   "source": [
    "#Read the three angles as input and check the these angles can we able to construct triangle or not\n",
    "# Test cases :\n",
    "       90 45 45 -- yes\n",
    "       0 0 180 -- no\n",
    "        60 90 30 -- Yes"
   ]
  },
  {
   "cell_type": "code",
   "execution_count": null,
   "metadata": {},
   "outputs": [],
   "source": [
    "#include<stdio.h>\n",
    "int main()\n",
    "{\n",
    "\tint x,y,z;\n",
    "\tscanf(\"%d%d%d\",&x,&y,&z);\n",
    "\tif (x!=0 && y!=0 && z!=0 && (x+y+z==180) )\n",
    "\t{\n",
    "\t\tprintf(\"yes\");\n",
    "\t}\n",
    "\telse\n",
    "\t{\n",
    "\t\tprintf(\"no\");\n",
    "\t}\n",
    "\treturn 0;\n",
    "}"
   ]
  },
  {
   "cell_type": "code",
   "execution_count": null,
   "metadata": {},
   "outputs": [],
   "source": [
    "# working process of while\n",
    "# while(Boolean_cond)\n",
    "{\n",
    "    loopstatement\n",
    "    increment/decrement\n",
    "}"
   ]
  },
  {
   "cell_type": "code",
   "execution_count": null,
   "metadata": {},
   "outputs": [],
   "source": [
    "#Read the number as input and print the natural numbers from 1 to n\n"
   ]
  },
  {
   "cell_type": "code",
   "execution_count": null,
   "metadata": {},
   "outputs": [],
   "source": [
    "#include<stdio.h>\n",
    "int main()\n",
    "{\n",
    "\tint n,i=1;\n",
    "\tscanf(\"%d\",&n);\n",
    "\twhile (i<=n)\n",
    "\t{\n",
    "\t\tprintf(\" %d \",i);\n",
    "\t\ti++;\n",
    "\t}\n",
    "\treturn 0;\t\n",
    "}"
   ]
  },
  {
   "cell_type": "code",
   "execution_count": null,
   "metadata": {},
   "outputs": [],
   "source": [
    "#REad the number as input and print the sum of even numbers between 1 to n\n",
    "#Test cases :\n",
    "   10--30(2+4+6+8+10)"
   ]
  },
  {
   "cell_type": "code",
   "execution_count": null,
   "metadata": {},
   "outputs": [],
   "source": [
    "#include<stdio.h>\n",
    "int main()\n",
    "{\n",
    "\tint n,i=1,s=0;\n",
    "\tscanf(\"%d\",&n);\n",
    "\twhile (i<=n)\n",
    "\t{\n",
    "\t\tif(i%2==0)\n",
    "\t\t{\n",
    "\t\t\ts=s+i; // s+=i\n",
    "\t\t}\n",
    "\t\ti++;\n",
    "\t}\n",
    "\tprintf(\"%d\",s);\n",
    "\treturn 0;\n",
    "}"
   ]
  },
  {
   "cell_type": "code",
   "execution_count": null,
   "metadata": {},
   "outputs": [],
   "source": []
  },
  {
   "cell_type": "code",
   "execution_count": null,
   "metadata": {},
   "outputs": [],
   "source": [
    "#include<stdio.h>\n",
    "int main()\n",
    "{\n",
    "\tint x,y;\n",
    "\tscanf(\"%d%d\",&x,&y);\n",
    "\twhile(x<=y)\n",
    "\t{\n",
    "\t\tif(x%3 == 0 && y%5 == 0)\n",
    "\t\t{\n",
    "\t\t\tprintf(\" %d \",x);\n",
    "\t\t}\n",
    "\t\tx++;\n",
    "\t}\n",
    "\treturn 0;\n",
    "}"
   ]
  },
  {
   "cell_type": "code",
   "execution_count": null,
   "metadata": {},
   "outputs": [],
   "source": [
    "#Read the number as input and print the output as digits of the number\n",
    "Test cases:\n",
    "    145 -- 5 4 1\n",
    "    1889 -- 9 8 8 1\n",
    "    "
   ]
  },
  {
   "cell_type": "code",
   "execution_count": null,
   "metadata": {},
   "outputs": [],
   "source": [
    "#include<stdio.h>\n",
    "int main()\n",
    "{\n",
    "\tint n,r,i=0;\n",
    "\tscanf(\"%d\",&n);\n",
    "\twhile (n!=0)\n",
    "\t{\n",
    "\tr=n%10;\n",
    "\tprintf(\"%d\",r);\n",
    "\tn=n/10;\n",
    "    }\n",
    "    \n",
    "\treturn 0;\n",
    "}"
   ]
  },
  {
   "cell_type": "code",
   "execution_count": null,
   "metadata": {},
   "outputs": [],
   "source": [
    "#Read the number as input and print the output only the sum of even digits  in the given num\n",
    "test cases:\n",
    "    1889 --- 16\n",
    "    145 -- 4\n",
    "    1591 -0"
   ]
  },
  {
   "cell_type": "code",
   "execution_count": null,
   "metadata": {},
   "outputs": [],
   "source": [
    "#include<stdio.h>\n",
    "int main()\n",
    "{\n",
    "\tint n,r;\n",
    "\tscanf(\"%d\",&n);\n",
    "\twhile(n!=0)\n",
    "\t{\n",
    "\t\tr=n%10;\n",
    "\t\tswitch(r)\n",
    "\t\t{\n",
    "\t\t\tcase 0 : printf(\"zero\");\n",
    "\t\t\tbreak;\n",
    "\t\t\tcase 1 : printf(\"one\");\n",
    "\t\t\tbreak;\n",
    "\t\t\tcase 2 : printf(\"two\");\n",
    "\t\t\tbreak;\n",
    "\t\t\tcase 3 : printf(\"three\");\n",
    "\t\t\tbreak;\n",
    "\t\t\tcase 4 : printf(\"four\");\n",
    "\t\t\tbreak;\n",
    "\t\t\tcase 5 : printf(\"five\");\n",
    "\t\t\tbreak;\n",
    "\t\t\tcase 6 : printf(\"six\");\n",
    "\t\t\tbreak;\n",
    "\t\t\tcase 7 : printf(\"seven\");\n",
    "\t\t\tbreak;\n",
    "\t\t\tcase 8 : printf(\"eight\");\n",
    "\t\t\tbreak;\n",
    "\t\t\tcase 9 : printf(\"nine\");\n",
    "\t\t\tbreak;\n",
    "\t\t}\n",
    "\t\tprintf(\"%d\");\n",
    "\t\tn=n/10;\n",
    "\t}\n",
    "\treturn 0;\n",
    "}"
   ]
  },
  {
   "cell_type": "code",
   "execution_count": null,
   "metadata": {},
   "outputs": [],
   "source": [
    "#Read the input as number and print the oitput in the following manner \n",
    "test cases:\n",
    "    98752 -- <2,9>\n",
    "    57415 -- <1,7>\n",
    "    Reason for the output is print least and highest digit of the num"
   ]
  },
  {
   "cell_type": "code",
   "execution_count": null,
   "metadata": {},
   "outputs": [],
   "source": [
    "#include<stdio.h>\n",
    "int main()\n",
    "{\n",
    "  int x,r,large=0, small=10;\n",
    "  scanf(\"%d\",&x);\n",
    "  while(x!=0)\n",
    "  {\n",
    "  \tr=x%10;\n",
    "  \tif(large<r)\n",
    "  \t{\n",
    "  \t\tlarge=r;\n",
    "\t}\n",
    "\tif(small>r)\n",
    "\t  {\n",
    "\t  \tsmall=r;\n",
    "\t  }\n",
    "\t  x=x/10;\n",
    "  }\n",
    "  printf(\"%d,%d\",small,large);\n",
    "  return 0;\n",
    "}\n",
    "\t"
   ]
  },
  {
   "cell_type": "code",
   "execution_count": null,
   "metadata": {},
   "outputs": [],
   "source": [
    "#Read the input as num and print the output in the following manner \n",
    "test cases :\n",
    "    1889 -- 5\n",
    "    666 -- 3\n",
    "    4756 -- 3\n",
    "    \n",
    "    Reason for the output is each circle will cost if 1 unit and triangle will cost 2 units"
   ]
  },
  {
   "cell_type": "code",
   "execution_count": null,
   "metadata": {},
   "outputs": [],
   "source": [
    "#include<stdio.h>\n",
    "int main()\n",
    "{\n",
    "\tint n,r,s=0;\n",
    "\tscanf(\"%d\",&n);\n",
    "\twhile(n!=0)\n",
    "\t{\n",
    "\t\tr=n%10;\n",
    "\t\tif(r==8)\n",
    "\t\t{\n",
    "\t\t\ts=s+2;\n",
    "\t\t}\n",
    "\t\telse if (r==9 || r==0||r==6)\n",
    "\t\t{\n",
    "\t\t\ts=s+1;\n",
    "\t\t}\n",
    "\t\telse if (r==4)\n",
    "\t\t{\n",
    "\t\t\ts=s+2;\n",
    "\t\t}\n",
    "\t\tn=n/10;\n",
    "\t}\n",
    "\tprintf(\"%d\",s);\n",
    "\treturn 0;\n",
    "}"
   ]
  },
  {
   "cell_type": "code",
   "execution_count": null,
   "metadata": {},
   "outputs": [],
   "source": [
    "#Read the number as input and print whether the number is \"palindrome\" or \"not a palindrome\"\n",
    "Test cases :\n",
    "    141 -- palindrome"
   ]
  }
 ],
 "metadata": {
  "kernelspec": {
   "display_name": "Python 3",
   "language": "python",
   "name": "python3"
  },
  "language_info": {
   "codemirror_mode": {
    "name": "ipython",
    "version": 3
   },
   "file_extension": ".py",
   "mimetype": "text/x-python",
   "name": "python",
   "nbconvert_exporter": "python",
   "pygments_lexer": "ipython3",
   "version": "3.7.4"
  }
 },
 "nbformat": 4,
 "nbformat_minor": 2
}
